{
  "nbformat": 4,
  "nbformat_minor": 0,
  "metadata": {
    "colab": {
      "provenance": [],
      "authorship_tag": "ABX9TyMwICpVxdhLs8mN0DdbUcdj",
      "include_colab_link": true
    },
    "kernelspec": {
      "name": "python3",
      "display_name": "Python 3"
    },
    "language_info": {
      "name": "python"
    }
  },
  "cells": [
    {
      "cell_type": "markdown",
      "metadata": {
        "id": "view-in-github",
        "colab_type": "text"
      },
      "source": [
        "<a href=\"https://colab.research.google.com/github/Rani-Shobha234/python-folder/blob/master/Dictionary.ipynb\" target=\"_parent\"><img src=\"https://colab.research.google.com/assets/colab-badge.svg\" alt=\"Open In Colab\"/></a>"
      ]
    },
    {
      "cell_type": "code",
      "execution_count": null,
      "metadata": {
        "id": "2iNnWG9jgkI6",
        "outputId": "cff6d4b3-c788-46c3-a2b3-10e88f35d314",
        "colab": {
          "base_uri": "https://localhost:8080/"
        }
      },
      "outputs": [
        {
          "output_type": "stream",
          "name": "stdout",
          "text": [
            "How was you day good or bad?good\n",
            "I hope u had a good day\n"
          ]
        }
      ],
      "source": [
        "mood_tracker={'good':\"I hope u had a good day\",'sick':\"How are you now\",'Nice':\"Good to see you again \"}\n",
        "user_ans=input(\"How was you day good or bad?\")\n",
        "for key in mood_tracker:\n",
        "    if key in user_ans:\n",
        "     print(mood_tracker[key])\n"
      ]
    }
  ]
}